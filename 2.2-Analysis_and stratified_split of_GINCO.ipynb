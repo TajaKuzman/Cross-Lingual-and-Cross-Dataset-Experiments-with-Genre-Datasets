{
 "cells": [
  {
   "cell_type": "code",
   "execution_count": 63,
   "metadata": {},
   "outputs": [],
   "source": [
    "import json\n",
    "import pandas as pd\n",
    "\n",
    "with open(\"G:/My Drive/GitHub/Experiments-with-CORE/data/GINCO-mapped-to-GINCORE.json\") as file:\n",
    "    dataset = json.load(file)\n"
   ]
  },
  {
   "cell_type": "markdown",
   "metadata": {},
   "source": [
    " We'll create an additional parameter for each document: \"full_text\" with paragraphs joint into one. Following previous research, we will use deduplicated text (only paragraphs with attribute duplicate False)."
   ]
  },
  {
   "cell_type": "code",
   "execution_count": 64,
   "metadata": {},
   "outputs": [
    {
     "data": {
      "text/plain": [
       "{'id': '3949',\n",
       " 'url': 'http://www.pomurje.si/aktualno/sport/zimska-liga-malega-nogometa/',\n",
       " 'crawled': '2014',\n",
       " 'hard': False,\n",
       " 'paragraphs': [{'text': 'Šport', 'duplicate': False, 'keep': True},\n",
       "  {'text': 'Zimska liga malega nogometa sobota, 12.02.2011',\n",
       "   'duplicate': False,\n",
       "   'keep': True},\n",
       "  {'text': 'avtor: Tonček Gider', 'duplicate': False, 'keep': True},\n",
       "  {'text': \"V 7. krogu zimske lige v malem nogometu v Križevcih pri Ljutomeru je v prvi ligi vodilni 100 plus iz Križevec izgubil s tretjo ekipo na lestvici Rock'n roll iz Križevec z rezultatom 1:2, druga na lestvici Top Finedika iz Križevec je bila poražena z ekipo Bar Milene iz Ključarovec z rezultatom 7:8. V drugi križevski ligi je vodilni Cafe del Mar iz Vučje vasi premagal Montažo Vrbnjak iz Stare Nove vasi z rezultatom 3:2.\",\n",
       "   'duplicate': False,\n",
       "   'keep': True},\n",
       "  {'text': 'oglasno sporočilo', 'duplicate': False, 'keep': True},\n",
       "  {'text': 'Ocena', 'duplicate': False, 'keep': True},\n",
       "  {'text': 'Komentiraj Za komentiranje ali ocenjevanje moraš biti registriran in prijavljen uporabnik. Registriraj se!',\n",
       "   'duplicate': True,\n",
       "   'keep': False}],\n",
       " 'primary_level_1': 'News/Reporting',\n",
       " 'primary_level_2': 'News/Reporting',\n",
       " 'primary_level_3': 'News/Reporting',\n",
       " 'secondary_level_1': '',\n",
       " 'secondary_level_2': '',\n",
       " 'secondary_level_3': '',\n",
       " 'tertiary_level_1': '',\n",
       " 'tertiary_level_2': '',\n",
       " 'tertiary_level_3': '',\n",
       " 'split': 'test',\n",
       " 'domain': 'www.pomurje.si',\n",
       " 'GINCORE': 'News',\n",
       " 'full_text': \"Šport <p/> Zimska liga malega nogometa sobota, 12.02.2011 <p/> avtor: Tonček Gider <p/> V 7. krogu zimske lige v malem nogometu v Križevcih pri Ljutomeru je v prvi ligi vodilni 100 plus iz Križevec izgubil s tretjo ekipo na lestvici Rock'n roll iz Križevec z rezultatom 1:2, druga na lestvici Top Finedika iz Križevec je bila poražena z ekipo Bar Milene iz Ključarovec z rezultatom 7:8. V drugi križevski ligi je vodilni Cafe del Mar iz Vučje vasi premagal Montažo Vrbnjak iz Stare Nove vasi z rezultatom 3:2. <p/> oglasno sporočilo <p/> Ocena\"}"
      ]
     },
     "execution_count": 64,
     "metadata": {},
     "output_type": "execute_result"
    }
   ],
   "source": [
    "for instance in dataset:\n",
    "    paragraphs = instance[\"paragraphs\"]\n",
    "    # Removing duplicates:\n",
    "    paragraphs = [p for p in paragraphs if not p[\"duplicate\"]]\n",
    "\n",
    "    # Joining texts:\n",
    "    if len(paragraphs) > 0:\n",
    "        instance_dedup_text = \" <p/> \".join([p[\"text\"] for p in paragraphs])\n",
    "\n",
    "        # Assigning texts to a new field:\n",
    "        instance[\"full_text\"] = instance_dedup_text\n",
    "\n",
    "dataset[0]"
   ]
  },
  {
   "cell_type": "markdown",
   "metadata": {},
   "source": [
    "Import the dataset into a pandas Data Frame:"
   ]
  },
  {
   "cell_type": "code",
   "execution_count": 65,
   "metadata": {},
   "outputs": [
    {
     "data": {
      "text/html": [
       "<div>\n",
       "<style scoped>\n",
       "    .dataframe tbody tr th:only-of-type {\n",
       "        vertical-align: middle;\n",
       "    }\n",
       "\n",
       "    .dataframe tbody tr th {\n",
       "        vertical-align: top;\n",
       "    }\n",
       "\n",
       "    .dataframe thead th {\n",
       "        text-align: right;\n",
       "    }\n",
       "</style>\n",
       "<table border=\"1\" class=\"dataframe\">\n",
       "  <thead>\n",
       "    <tr style=\"text-align: right;\">\n",
       "      <th></th>\n",
       "      <th>id</th>\n",
       "      <th>url</th>\n",
       "      <th>crawled</th>\n",
       "      <th>hard</th>\n",
       "      <th>paragraphs</th>\n",
       "      <th>primary_level_1</th>\n",
       "      <th>primary_level_2</th>\n",
       "      <th>primary_level_3</th>\n",
       "      <th>secondary_level_1</th>\n",
       "      <th>secondary_level_2</th>\n",
       "      <th>secondary_level_3</th>\n",
       "      <th>tertiary_level_1</th>\n",
       "      <th>tertiary_level_2</th>\n",
       "      <th>tertiary_level_3</th>\n",
       "      <th>split</th>\n",
       "      <th>domain</th>\n",
       "      <th>GINCORE</th>\n",
       "      <th>full_text</th>\n",
       "    </tr>\n",
       "  </thead>\n",
       "  <tbody>\n",
       "    <tr>\n",
       "      <th>0</th>\n",
       "      <td>3949</td>\n",
       "      <td>http://www.pomurje.si/aktualno/sport/zimska-li...</td>\n",
       "      <td>2014</td>\n",
       "      <td>False</td>\n",
       "      <td>[{'text': 'Šport', 'duplicate': False, 'keep':...</td>\n",
       "      <td>News/Reporting</td>\n",
       "      <td>News/Reporting</td>\n",
       "      <td>News/Reporting</td>\n",
       "      <td></td>\n",
       "      <td></td>\n",
       "      <td></td>\n",
       "      <td></td>\n",
       "      <td></td>\n",
       "      <td></td>\n",
       "      <td>test</td>\n",
       "      <td>www.pomurje.si</td>\n",
       "      <td>News</td>\n",
       "      <td>Šport &lt;p/&gt; Zimska liga malega nogometa sobota,...</td>\n",
       "    </tr>\n",
       "    <tr>\n",
       "      <th>1</th>\n",
       "      <td>3726</td>\n",
       "      <td>http://www.ss-sezana.si/sss/index.php?option=c...</td>\n",
       "      <td>2014</td>\n",
       "      <td>False</td>\n",
       "      <td>[{'text': 'JEDILNIK', 'duplicate': False, 'kee...</td>\n",
       "      <td>Information/Explanation</td>\n",
       "      <td>Information/Explanation</td>\n",
       "      <td>Information/Explanation</td>\n",
       "      <td></td>\n",
       "      <td></td>\n",
       "      <td></td>\n",
       "      <td></td>\n",
       "      <td></td>\n",
       "      <td></td>\n",
       "      <td>train</td>\n",
       "      <td>www.ss-sezana.si</td>\n",
       "      <td>Information/Explanation</td>\n",
       "      <td>JEDILNIK &lt;p/&gt; Iskalnik &lt;p/&gt; Poglavitni cilj pr...</td>\n",
       "    </tr>\n",
       "    <tr>\n",
       "      <th>2</th>\n",
       "      <td>5621</td>\n",
       "      <td>http://www.kamnik-starejsi.si/novice/144-sodel...</td>\n",
       "      <td>2014</td>\n",
       "      <td>False</td>\n",
       "      <td>[{'text': 'Projekt INNOVAge in zavod Oreli', '...</td>\n",
       "      <td>Promotion of Services</td>\n",
       "      <td>Promotion of Services</td>\n",
       "      <td>Promotion</td>\n",
       "      <td>Opinion/Argumentation</td>\n",
       "      <td>Opinion/Argumentation</td>\n",
       "      <td>Opinion/Argumentation</td>\n",
       "      <td>Information/Explanation</td>\n",
       "      <td>Information/Explanation</td>\n",
       "      <td>Information/Explanation</td>\n",
       "      <td>train</td>\n",
       "      <td>www.kamnik-starejsi.si</td>\n",
       "      <td>Promotion</td>\n",
       "      <td>Projekt INNOVAge in zavod Oreli &lt;p/&gt; Zavod Ore...</td>\n",
       "    </tr>\n",
       "    <tr>\n",
       "      <th>3</th>\n",
       "      <td>3776</td>\n",
       "      <td>http://www.radiocelje.si/novica.php?id=13007&amp;a...</td>\n",
       "      <td>2014</td>\n",
       "      <td>False</td>\n",
       "      <td>[{'text': 'V novembru, mesecu preprečevanja od...</td>\n",
       "      <td>News/Reporting</td>\n",
       "      <td>News/Reporting</td>\n",
       "      <td>News/Reporting</td>\n",
       "      <td></td>\n",
       "      <td></td>\n",
       "      <td></td>\n",
       "      <td></td>\n",
       "      <td></td>\n",
       "      <td></td>\n",
       "      <td>train</td>\n",
       "      <td>www.radiocelje.si</td>\n",
       "      <td>News</td>\n",
       "      <td>V novembru, mesecu preprečevanja odvisnosti, b...</td>\n",
       "    </tr>\n",
       "    <tr>\n",
       "      <th>4</th>\n",
       "      <td>2102</td>\n",
       "      <td>http://www.mtv.si/novice/selena-gomez-ponudila...</td>\n",
       "      <td>2014</td>\n",
       "      <td>False</td>\n",
       "      <td>[{'text': 'Selena Gomez ponudila v poslušanje ...</td>\n",
       "      <td>Opinionated News</td>\n",
       "      <td>Opinionated News</td>\n",
       "      <td>Opinionated News</td>\n",
       "      <td></td>\n",
       "      <td></td>\n",
       "      <td></td>\n",
       "      <td></td>\n",
       "      <td></td>\n",
       "      <td></td>\n",
       "      <td>test</td>\n",
       "      <td>www.mtv.si</td>\n",
       "      <td>News</td>\n",
       "      <td>Selena Gomez ponudila v poslušanje novi album ...</td>\n",
       "    </tr>\n",
       "  </tbody>\n",
       "</table>\n",
       "</div>"
      ],
      "text/plain": [
       "     id                                                url crawled   hard  \\\n",
       "0  3949  http://www.pomurje.si/aktualno/sport/zimska-li...    2014  False   \n",
       "1  3726  http://www.ss-sezana.si/sss/index.php?option=c...    2014  False   \n",
       "2  5621  http://www.kamnik-starejsi.si/novice/144-sodel...    2014  False   \n",
       "3  3776  http://www.radiocelje.si/novica.php?id=13007&a...    2014  False   \n",
       "4  2102  http://www.mtv.si/novice/selena-gomez-ponudila...    2014  False   \n",
       "\n",
       "                                          paragraphs          primary_level_1  \\\n",
       "0  [{'text': 'Šport', 'duplicate': False, 'keep':...           News/Reporting   \n",
       "1  [{'text': 'JEDILNIK', 'duplicate': False, 'kee...  Information/Explanation   \n",
       "2  [{'text': 'Projekt INNOVAge in zavod Oreli', '...    Promotion of Services   \n",
       "3  [{'text': 'V novembru, mesecu preprečevanja od...           News/Reporting   \n",
       "4  [{'text': 'Selena Gomez ponudila v poslušanje ...         Opinionated News   \n",
       "\n",
       "           primary_level_2          primary_level_3      secondary_level_1  \\\n",
       "0           News/Reporting           News/Reporting                          \n",
       "1  Information/Explanation  Information/Explanation                          \n",
       "2    Promotion of Services                Promotion  Opinion/Argumentation   \n",
       "3           News/Reporting           News/Reporting                          \n",
       "4         Opinionated News         Opinionated News                          \n",
       "\n",
       "       secondary_level_2      secondary_level_3         tertiary_level_1  \\\n",
       "0                                                                          \n",
       "1                                                                          \n",
       "2  Opinion/Argumentation  Opinion/Argumentation  Information/Explanation   \n",
       "3                                                                          \n",
       "4                                                                          \n",
       "\n",
       "          tertiary_level_2         tertiary_level_3  split  \\\n",
       "0                                                     test   \n",
       "1                                                    train   \n",
       "2  Information/Explanation  Information/Explanation  train   \n",
       "3                                                    train   \n",
       "4                                                     test   \n",
       "\n",
       "                   domain                  GINCORE  \\\n",
       "0          www.pomurje.si                     News   \n",
       "1        www.ss-sezana.si  Information/Explanation   \n",
       "2  www.kamnik-starejsi.si                Promotion   \n",
       "3       www.radiocelje.si                     News   \n",
       "4              www.mtv.si                     News   \n",
       "\n",
       "                                           full_text  \n",
       "0  Šport <p/> Zimska liga malega nogometa sobota,...  \n",
       "1  JEDILNIK <p/> Iskalnik <p/> Poglavitni cilj pr...  \n",
       "2  Projekt INNOVAge in zavod Oreli <p/> Zavod Ore...  \n",
       "3  V novembru, mesecu preprečevanja odvisnosti, b...  \n",
       "4  Selena Gomez ponudila v poslušanje novi album ...  "
      ]
     },
     "execution_count": 65,
     "metadata": {},
     "output_type": "execute_result"
    }
   ],
   "source": [
    "dataset_df = pd.DataFrame(dataset)\n",
    "\n",
    "dataset_df.head()"
   ]
  },
  {
   "cell_type": "markdown",
   "metadata": {},
   "source": [
    "Inspect the label distribution:"
   ]
  },
  {
   "cell_type": "code",
   "execution_count": 66,
   "metadata": {},
   "outputs": [
    {
     "data": {
      "text/plain": [
       "Promotion                     209\n",
       "News                          204\n",
       "Information/Explanation       130\n",
       "Opinion/Argumentation         114\n",
       "List of Summaries/Excerpts    106\n",
       "Forum                          52\n",
       "Instruction                    38\n",
       "Other                          34\n",
       "Review                         17\n",
       "Legal/Regulation               17\n",
       "Announcement                   17\n",
       "Correspondence                 16\n",
       "Call                           11\n",
       "Research Article                9\n",
       "Interview                       8\n",
       "Recipe                          6\n",
       "Prose                           6\n",
       "Lyrical                         4\n",
       "FAQ                             3\n",
       "Script/Drama                    1\n",
       "Name: GINCORE, dtype: int64"
      ]
     },
     "execution_count": 66,
     "metadata": {},
     "output_type": "execute_result"
    }
   ],
   "source": [
    "dataset_df.GINCORE.value_counts()"
   ]
  },
  {
   "cell_type": "markdown",
   "metadata": {},
   "source": [
    "We should discard categories with less than 5 instances, as well as the GINCORE categories that do not appear in the CORE dataset (for better comparability)."
   ]
  },
  {
   "cell_type": "code",
   "execution_count": 67,
   "metadata": {},
   "outputs": [
    {
     "data": {
      "text/plain": [
       "810"
      ]
     },
     "execution_count": 67,
     "metadata": {},
     "output_type": "execute_result"
    }
   ],
   "source": [
    "discarded_labels = [\"Script/Drama\", \"FAQ\", \"Lyrical\", \"Announcement\", \"Call\", \"Correspondence\", \"List of Summaries/Excerpts\", \"Other\"]\n",
    "\n",
    "cleaned_dataset = []\n",
    "\n",
    "for i in dataset:\n",
    "    if i[\"GINCORE\"] not in discarded_labels:\n",
    "        cleaned_dataset.append(i)\n",
    "\n",
    "len(cleaned_dataset)"
   ]
  },
  {
   "cell_type": "code",
   "execution_count": 68,
   "metadata": {},
   "outputs": [
    {
     "data": {
      "text/html": [
       "<div>\n",
       "<style scoped>\n",
       "    .dataframe tbody tr th:only-of-type {\n",
       "        vertical-align: middle;\n",
       "    }\n",
       "\n",
       "    .dataframe tbody tr th {\n",
       "        vertical-align: top;\n",
       "    }\n",
       "\n",
       "    .dataframe thead th {\n",
       "        text-align: right;\n",
       "    }\n",
       "</style>\n",
       "<table border=\"1\" class=\"dataframe\">\n",
       "  <thead>\n",
       "    <tr style=\"text-align: right;\">\n",
       "      <th></th>\n",
       "      <th>id</th>\n",
       "      <th>url</th>\n",
       "      <th>crawled</th>\n",
       "      <th>hard</th>\n",
       "      <th>paragraphs</th>\n",
       "      <th>primary_level_1</th>\n",
       "      <th>primary_level_2</th>\n",
       "      <th>primary_level_3</th>\n",
       "      <th>secondary_level_1</th>\n",
       "      <th>secondary_level_2</th>\n",
       "      <th>secondary_level_3</th>\n",
       "      <th>tertiary_level_1</th>\n",
       "      <th>tertiary_level_2</th>\n",
       "      <th>tertiary_level_3</th>\n",
       "      <th>split</th>\n",
       "      <th>domain</th>\n",
       "      <th>GINCORE</th>\n",
       "      <th>full_text</th>\n",
       "    </tr>\n",
       "  </thead>\n",
       "  <tbody>\n",
       "    <tr>\n",
       "      <th>0</th>\n",
       "      <td>3949</td>\n",
       "      <td>http://www.pomurje.si/aktualno/sport/zimska-li...</td>\n",
       "      <td>2014</td>\n",
       "      <td>False</td>\n",
       "      <td>[{'text': 'Šport', 'duplicate': False, 'keep':...</td>\n",
       "      <td>News/Reporting</td>\n",
       "      <td>News/Reporting</td>\n",
       "      <td>News/Reporting</td>\n",
       "      <td></td>\n",
       "      <td></td>\n",
       "      <td></td>\n",
       "      <td></td>\n",
       "      <td></td>\n",
       "      <td></td>\n",
       "      <td>test</td>\n",
       "      <td>www.pomurje.si</td>\n",
       "      <td>News</td>\n",
       "      <td>Šport &lt;p/&gt; Zimska liga malega nogometa sobota,...</td>\n",
       "    </tr>\n",
       "    <tr>\n",
       "      <th>1</th>\n",
       "      <td>3726</td>\n",
       "      <td>http://www.ss-sezana.si/sss/index.php?option=c...</td>\n",
       "      <td>2014</td>\n",
       "      <td>False</td>\n",
       "      <td>[{'text': 'JEDILNIK', 'duplicate': False, 'kee...</td>\n",
       "      <td>Information/Explanation</td>\n",
       "      <td>Information/Explanation</td>\n",
       "      <td>Information/Explanation</td>\n",
       "      <td></td>\n",
       "      <td></td>\n",
       "      <td></td>\n",
       "      <td></td>\n",
       "      <td></td>\n",
       "      <td></td>\n",
       "      <td>train</td>\n",
       "      <td>www.ss-sezana.si</td>\n",
       "      <td>Information/Explanation</td>\n",
       "      <td>JEDILNIK &lt;p/&gt; Iskalnik &lt;p/&gt; Poglavitni cilj pr...</td>\n",
       "    </tr>\n",
       "    <tr>\n",
       "      <th>2</th>\n",
       "      <td>5621</td>\n",
       "      <td>http://www.kamnik-starejsi.si/novice/144-sodel...</td>\n",
       "      <td>2014</td>\n",
       "      <td>False</td>\n",
       "      <td>[{'text': 'Projekt INNOVAge in zavod Oreli', '...</td>\n",
       "      <td>Promotion of Services</td>\n",
       "      <td>Promotion of Services</td>\n",
       "      <td>Promotion</td>\n",
       "      <td>Opinion/Argumentation</td>\n",
       "      <td>Opinion/Argumentation</td>\n",
       "      <td>Opinion/Argumentation</td>\n",
       "      <td>Information/Explanation</td>\n",
       "      <td>Information/Explanation</td>\n",
       "      <td>Information/Explanation</td>\n",
       "      <td>train</td>\n",
       "      <td>www.kamnik-starejsi.si</td>\n",
       "      <td>Promotion</td>\n",
       "      <td>Projekt INNOVAge in zavod Oreli &lt;p/&gt; Zavod Ore...</td>\n",
       "    </tr>\n",
       "    <tr>\n",
       "      <th>3</th>\n",
       "      <td>3776</td>\n",
       "      <td>http://www.radiocelje.si/novica.php?id=13007&amp;a...</td>\n",
       "      <td>2014</td>\n",
       "      <td>False</td>\n",
       "      <td>[{'text': 'V novembru, mesecu preprečevanja od...</td>\n",
       "      <td>News/Reporting</td>\n",
       "      <td>News/Reporting</td>\n",
       "      <td>News/Reporting</td>\n",
       "      <td></td>\n",
       "      <td></td>\n",
       "      <td></td>\n",
       "      <td></td>\n",
       "      <td></td>\n",
       "      <td></td>\n",
       "      <td>train</td>\n",
       "      <td>www.radiocelje.si</td>\n",
       "      <td>News</td>\n",
       "      <td>V novembru, mesecu preprečevanja odvisnosti, b...</td>\n",
       "    </tr>\n",
       "    <tr>\n",
       "      <th>4</th>\n",
       "      <td>2102</td>\n",
       "      <td>http://www.mtv.si/novice/selena-gomez-ponudila...</td>\n",
       "      <td>2014</td>\n",
       "      <td>False</td>\n",
       "      <td>[{'text': 'Selena Gomez ponudila v poslušanje ...</td>\n",
       "      <td>Opinionated News</td>\n",
       "      <td>Opinionated News</td>\n",
       "      <td>Opinionated News</td>\n",
       "      <td></td>\n",
       "      <td></td>\n",
       "      <td></td>\n",
       "      <td></td>\n",
       "      <td></td>\n",
       "      <td></td>\n",
       "      <td>test</td>\n",
       "      <td>www.mtv.si</td>\n",
       "      <td>News</td>\n",
       "      <td>Selena Gomez ponudila v poslušanje novi album ...</td>\n",
       "    </tr>\n",
       "  </tbody>\n",
       "</table>\n",
       "</div>"
      ],
      "text/plain": [
       "     id                                                url crawled   hard  \\\n",
       "0  3949  http://www.pomurje.si/aktualno/sport/zimska-li...    2014  False   \n",
       "1  3726  http://www.ss-sezana.si/sss/index.php?option=c...    2014  False   \n",
       "2  5621  http://www.kamnik-starejsi.si/novice/144-sodel...    2014  False   \n",
       "3  3776  http://www.radiocelje.si/novica.php?id=13007&a...    2014  False   \n",
       "4  2102  http://www.mtv.si/novice/selena-gomez-ponudila...    2014  False   \n",
       "\n",
       "                                          paragraphs          primary_level_1  \\\n",
       "0  [{'text': 'Šport', 'duplicate': False, 'keep':...           News/Reporting   \n",
       "1  [{'text': 'JEDILNIK', 'duplicate': False, 'kee...  Information/Explanation   \n",
       "2  [{'text': 'Projekt INNOVAge in zavod Oreli', '...    Promotion of Services   \n",
       "3  [{'text': 'V novembru, mesecu preprečevanja od...           News/Reporting   \n",
       "4  [{'text': 'Selena Gomez ponudila v poslušanje ...         Opinionated News   \n",
       "\n",
       "           primary_level_2          primary_level_3      secondary_level_1  \\\n",
       "0           News/Reporting           News/Reporting                          \n",
       "1  Information/Explanation  Information/Explanation                          \n",
       "2    Promotion of Services                Promotion  Opinion/Argumentation   \n",
       "3           News/Reporting           News/Reporting                          \n",
       "4         Opinionated News         Opinionated News                          \n",
       "\n",
       "       secondary_level_2      secondary_level_3         tertiary_level_1  \\\n",
       "0                                                                          \n",
       "1                                                                          \n",
       "2  Opinion/Argumentation  Opinion/Argumentation  Information/Explanation   \n",
       "3                                                                          \n",
       "4                                                                          \n",
       "\n",
       "          tertiary_level_2         tertiary_level_3  split  \\\n",
       "0                                                     test   \n",
       "1                                                    train   \n",
       "2  Information/Explanation  Information/Explanation  train   \n",
       "3                                                    train   \n",
       "4                                                     test   \n",
       "\n",
       "                   domain                  GINCORE  \\\n",
       "0          www.pomurje.si                     News   \n",
       "1        www.ss-sezana.si  Information/Explanation   \n",
       "2  www.kamnik-starejsi.si                Promotion   \n",
       "3       www.radiocelje.si                     News   \n",
       "4              www.mtv.si                     News   \n",
       "\n",
       "                                           full_text  \n",
       "0  Šport <p/> Zimska liga malega nogometa sobota,...  \n",
       "1  JEDILNIK <p/> Iskalnik <p/> Poglavitni cilj pr...  \n",
       "2  Projekt INNOVAge in zavod Oreli <p/> Zavod Ore...  \n",
       "3  V novembru, mesecu preprečevanja odvisnosti, b...  \n",
       "4  Selena Gomez ponudila v poslušanje novi album ...  "
      ]
     },
     "execution_count": 68,
     "metadata": {},
     "output_type": "execute_result"
    }
   ],
   "source": [
    "cleaned_dataset_df = pd.DataFrame(cleaned_dataset)\n",
    "cleaned_dataset_df.head()"
   ]
  },
  {
   "cell_type": "markdown",
   "metadata": {},
   "source": [
    "--> 192 texts were discarded, 810 texts were used."
   ]
  },
  {
   "cell_type": "code",
   "execution_count": 69,
   "metadata": {},
   "outputs": [
    {
     "data": {
      "text/html": [
       "<div>\n",
       "<style scoped>\n",
       "    .dataframe tbody tr th:only-of-type {\n",
       "        vertical-align: middle;\n",
       "    }\n",
       "\n",
       "    .dataframe tbody tr th {\n",
       "        vertical-align: top;\n",
       "    }\n",
       "\n",
       "    .dataframe thead th {\n",
       "        text-align: right;\n",
       "    }\n",
       "</style>\n",
       "<table border=\"1\" class=\"dataframe\">\n",
       "  <thead>\n",
       "    <tr style=\"text-align: right;\">\n",
       "      <th></th>\n",
       "      <th>text</th>\n",
       "      <th>labels</th>\n",
       "    </tr>\n",
       "  </thead>\n",
       "  <tbody>\n",
       "    <tr>\n",
       "      <th>0</th>\n",
       "      <td>Šport &lt;p/&gt; Zimska liga malega nogometa sobota,...</td>\n",
       "      <td>News</td>\n",
       "    </tr>\n",
       "    <tr>\n",
       "      <th>1</th>\n",
       "      <td>JEDILNIK &lt;p/&gt; Iskalnik &lt;p/&gt; Poglavitni cilj pr...</td>\n",
       "      <td>Information/Explanation</td>\n",
       "    </tr>\n",
       "    <tr>\n",
       "      <th>2</th>\n",
       "      <td>Projekt INNOVAge in zavod Oreli &lt;p/&gt; Zavod Ore...</td>\n",
       "      <td>Promotion</td>\n",
       "    </tr>\n",
       "    <tr>\n",
       "      <th>3</th>\n",
       "      <td>V novembru, mesecu preprečevanja odvisnosti, b...</td>\n",
       "      <td>News</td>\n",
       "    </tr>\n",
       "    <tr>\n",
       "      <th>4</th>\n",
       "      <td>Selena Gomez ponudila v poslušanje novi album ...</td>\n",
       "      <td>News</td>\n",
       "    </tr>\n",
       "  </tbody>\n",
       "</table>\n",
       "</div>"
      ],
      "text/plain": [
       "                                                text                   labels\n",
       "0  Šport <p/> Zimska liga malega nogometa sobota,...                     News\n",
       "1  JEDILNIK <p/> Iskalnik <p/> Poglavitni cilj pr...  Information/Explanation\n",
       "2  Projekt INNOVAge in zavod Oreli <p/> Zavod Ore...                Promotion\n",
       "3  V novembru, mesecu preprečevanja odvisnosti, b...                     News\n",
       "4  Selena Gomez ponudila v poslušanje novi album ...                     News"
      ]
     },
     "execution_count": 69,
     "metadata": {},
     "output_type": "execute_result"
    }
   ],
   "source": [
    "final_dataset = cleaned_dataset_df[[\"full_text\",\"GINCORE\"]]\n",
    "final_dataset.columns = [\"text\", \"labels\"]\n",
    "\n",
    "final_dataset.head()"
   ]
  },
  {
   "cell_type": "code",
   "execution_count": 70,
   "metadata": {},
   "outputs": [
    {
     "data": {
      "text/plain": [
       "12"
      ]
     },
     "execution_count": 70,
     "metadata": {},
     "output_type": "execute_result"
    }
   ],
   "source": [
    "len(final_dataset.labels.unique())"
   ]
  },
  {
   "cell_type": "markdown",
   "metadata": {},
   "source": [
    "As we are using deduplicated text, it is possible that some of the instances have no text (nan instead of text string). We need to drop them."
   ]
  },
  {
   "cell_type": "code",
   "execution_count": 71,
   "metadata": {},
   "outputs": [
    {
     "data": {
      "text/html": [
       "<div>\n",
       "<style scoped>\n",
       "    .dataframe tbody tr th:only-of-type {\n",
       "        vertical-align: middle;\n",
       "    }\n",
       "\n",
       "    .dataframe tbody tr th {\n",
       "        vertical-align: top;\n",
       "    }\n",
       "\n",
       "    .dataframe thead th {\n",
       "        text-align: right;\n",
       "    }\n",
       "</style>\n",
       "<table border=\"1\" class=\"dataframe\">\n",
       "  <thead>\n",
       "    <tr style=\"text-align: right;\">\n",
       "      <th></th>\n",
       "      <th>text</th>\n",
       "      <th>labels</th>\n",
       "    </tr>\n",
       "  </thead>\n",
       "  <tbody>\n",
       "    <tr>\n",
       "      <th>49</th>\n",
       "      <td>NaN</td>\n",
       "      <td>Opinion/Argumentation</td>\n",
       "    </tr>\n",
       "    <tr>\n",
       "      <th>163</th>\n",
       "      <td>NaN</td>\n",
       "      <td>Promotion</td>\n",
       "    </tr>\n",
       "    <tr>\n",
       "      <th>253</th>\n",
       "      <td>NaN</td>\n",
       "      <td>Opinion/Argumentation</td>\n",
       "    </tr>\n",
       "    <tr>\n",
       "      <th>275</th>\n",
       "      <td>NaN</td>\n",
       "      <td>Opinion/Argumentation</td>\n",
       "    </tr>\n",
       "    <tr>\n",
       "      <th>293</th>\n",
       "      <td>NaN</td>\n",
       "      <td>Opinion/Argumentation</td>\n",
       "    </tr>\n",
       "    <tr>\n",
       "      <th>295</th>\n",
       "      <td>NaN</td>\n",
       "      <td>News</td>\n",
       "    </tr>\n",
       "    <tr>\n",
       "      <th>385</th>\n",
       "      <td>NaN</td>\n",
       "      <td>Information/Explanation</td>\n",
       "    </tr>\n",
       "    <tr>\n",
       "      <th>413</th>\n",
       "      <td>NaN</td>\n",
       "      <td>Promotion</td>\n",
       "    </tr>\n",
       "    <tr>\n",
       "      <th>421</th>\n",
       "      <td>NaN</td>\n",
       "      <td>Legal/Regulation</td>\n",
       "    </tr>\n",
       "    <tr>\n",
       "      <th>430</th>\n",
       "      <td>NaN</td>\n",
       "      <td>Instruction</td>\n",
       "    </tr>\n",
       "    <tr>\n",
       "      <th>631</th>\n",
       "      <td>NaN</td>\n",
       "      <td>Interview</td>\n",
       "    </tr>\n",
       "    <tr>\n",
       "      <th>663</th>\n",
       "      <td>NaN</td>\n",
       "      <td>Review</td>\n",
       "    </tr>\n",
       "    <tr>\n",
       "      <th>686</th>\n",
       "      <td>NaN</td>\n",
       "      <td>Promotion</td>\n",
       "    </tr>\n",
       "  </tbody>\n",
       "</table>\n",
       "</div>"
      ],
      "text/plain": [
       "    text                   labels\n",
       "49   NaN    Opinion/Argumentation\n",
       "163  NaN                Promotion\n",
       "253  NaN    Opinion/Argumentation\n",
       "275  NaN    Opinion/Argumentation\n",
       "293  NaN    Opinion/Argumentation\n",
       "295  NaN                     News\n",
       "385  NaN  Information/Explanation\n",
       "413  NaN                Promotion\n",
       "421  NaN         Legal/Regulation\n",
       "430  NaN              Instruction\n",
       "631  NaN                Interview\n",
       "663  NaN                   Review\n",
       "686  NaN                Promotion"
      ]
     },
     "execution_count": 71,
     "metadata": {},
     "output_type": "execute_result"
    }
   ],
   "source": [
    "final_dataset[final_dataset.isnull().any(axis=1)]"
   ]
  },
  {
   "cell_type": "code",
   "execution_count": 81,
   "metadata": {},
   "outputs": [
    {
     "name": "stderr",
     "output_type": "stream",
     "text": [
      "C:\\Users\\TajaK\\AppData\\Local\\Programs\\Python\\Python310\\lib\\site-packages\\pandas\\util\\_decorators.py:311: SettingWithCopyWarning: \n",
      "A value is trying to be set on a copy of a slice from a DataFrame\n",
      "\n",
      "See the caveats in the documentation: https://pandas.pydata.org/pandas-docs/stable/user_guide/indexing.html#returning-a-view-versus-a-copy\n",
      "  return func(*args, **kwargs)\n"
     ]
    },
    {
     "data": {
      "text/html": [
       "<div>\n",
       "<style scoped>\n",
       "    .dataframe tbody tr th:only-of-type {\n",
       "        vertical-align: middle;\n",
       "    }\n",
       "\n",
       "    .dataframe tbody tr th {\n",
       "        vertical-align: top;\n",
       "    }\n",
       "\n",
       "    .dataframe thead th {\n",
       "        text-align: right;\n",
       "    }\n",
       "</style>\n",
       "<table border=\"1\" class=\"dataframe\">\n",
       "  <thead>\n",
       "    <tr style=\"text-align: right;\">\n",
       "      <th></th>\n",
       "      <th>text</th>\n",
       "      <th>labels</th>\n",
       "    </tr>\n",
       "  </thead>\n",
       "  <tbody>\n",
       "    <tr>\n",
       "      <th>count</th>\n",
       "      <td>797</td>\n",
       "      <td>797</td>\n",
       "    </tr>\n",
       "    <tr>\n",
       "      <th>unique</th>\n",
       "      <td>797</td>\n",
       "      <td>12</td>\n",
       "    </tr>\n",
       "    <tr>\n",
       "      <th>top</th>\n",
       "      <td>Šport &lt;p/&gt; Zimska liga malega nogometa sobota,...</td>\n",
       "      <td>Promotion</td>\n",
       "    </tr>\n",
       "    <tr>\n",
       "      <th>freq</th>\n",
       "      <td>1</td>\n",
       "      <td>206</td>\n",
       "    </tr>\n",
       "  </tbody>\n",
       "</table>\n",
       "</div>"
      ],
      "text/plain": [
       "                                                     text     labels\n",
       "count                                                 797        797\n",
       "unique                                                797         12\n",
       "top     Šport <p/> Zimska liga malega nogometa sobota,...  Promotion\n",
       "freq                                                    1        206"
      ]
     },
     "execution_count": 81,
     "metadata": {},
     "output_type": "execute_result"
    }
   ],
   "source": [
    "final_dataset.dropna(subset=[\"text\"], inplace=True)\n",
    "final_dataset.describe()"
   ]
  },
  {
   "cell_type": "markdown",
   "metadata": {},
   "source": [
    "Create a stratified split. First split the dataset into train and devtest and then split the devtest into dev and test. The final split will be 60:20:20."
   ]
  },
  {
   "cell_type": "code",
   "execution_count": 82,
   "metadata": {},
   "outputs": [],
   "source": [
    "import numpy as np\n",
    "from sklearn.model_selection import train_test_split\n",
    "\n",
    "train, devtest = train_test_split(final_dataset, test_size=0.4, random_state=42, shuffle = True, stratify = final_dataset.labels)"
   ]
  },
  {
   "cell_type": "code",
   "execution_count": 75,
   "metadata": {},
   "outputs": [
    {
     "data": {
      "text/html": [
       "<div>\n",
       "<style scoped>\n",
       "    .dataframe tbody tr th:only-of-type {\n",
       "        vertical-align: middle;\n",
       "    }\n",
       "\n",
       "    .dataframe tbody tr th {\n",
       "        vertical-align: top;\n",
       "    }\n",
       "\n",
       "    .dataframe thead th {\n",
       "        text-align: right;\n",
       "    }\n",
       "</style>\n",
       "<table border=\"1\" class=\"dataframe\">\n",
       "  <thead>\n",
       "    <tr style=\"text-align: right;\">\n",
       "      <th></th>\n",
       "      <th>text</th>\n",
       "      <th>labels</th>\n",
       "    </tr>\n",
       "  </thead>\n",
       "  <tbody>\n",
       "    <tr>\n",
       "      <th>count</th>\n",
       "      <td>478</td>\n",
       "      <td>478</td>\n",
       "    </tr>\n",
       "    <tr>\n",
       "      <th>unique</th>\n",
       "      <td>478</td>\n",
       "      <td>12</td>\n",
       "    </tr>\n",
       "    <tr>\n",
       "      <th>top</th>\n",
       "      <td>2. igralec sveta in verjetno najboljši igralec...</td>\n",
       "      <td>Promotion</td>\n",
       "    </tr>\n",
       "    <tr>\n",
       "      <th>freq</th>\n",
       "      <td>1</td>\n",
       "      <td>123</td>\n",
       "    </tr>\n",
       "  </tbody>\n",
       "</table>\n",
       "</div>"
      ],
      "text/plain": [
       "                                                     text     labels\n",
       "count                                                 478        478\n",
       "unique                                                478         12\n",
       "top     2. igralec sveta in verjetno najboljši igralec...  Promotion\n",
       "freq                                                    1        123"
      ]
     },
     "execution_count": 75,
     "metadata": {},
     "output_type": "execute_result"
    }
   ],
   "source": [
    "train.describe()"
   ]
  },
  {
   "cell_type": "code",
   "execution_count": 83,
   "metadata": {},
   "outputs": [
    {
     "data": {
      "text/plain": [
       "Promotion                  83\n",
       "News                       81\n",
       "Information/Explanation    52\n",
       "Opinion/Argumentation      44\n",
       "Forum                      21\n",
       "Instruction                15\n",
       "Legal/Regulation            6\n",
       "Review                      6\n",
       "Research Article            4\n",
       "Interview                   3\n",
       "Prose                       2\n",
       "Recipe                      2\n",
       "Name: labels, dtype: int64"
      ]
     },
     "execution_count": 83,
     "metadata": {},
     "output_type": "execute_result"
    }
   ],
   "source": [
    "devtest.labels.value_counts()"
   ]
  },
  {
   "cell_type": "code",
   "execution_count": 84,
   "metadata": {},
   "outputs": [],
   "source": [
    "test, dev = train_test_split(devtest, test_size=0.5, random_state=42, shuffle = True, stratify = devtest.labels)"
   ]
  },
  {
   "cell_type": "markdown",
   "metadata": {},
   "source": [
    "Observe the distribution of the labels in all sets."
   ]
  },
  {
   "cell_type": "code",
   "execution_count": 85,
   "metadata": {},
   "outputs": [
    {
     "data": {
      "text/plain": [
       "<AxesSubplot:xlabel='value', ylabel='Count'>"
      ]
     },
     "execution_count": 85,
     "metadata": {},
     "output_type": "execute_result"
    },
    {
     "data": {
      "image/png": "[encoded data removed]",
      "text/plain": [
       "<Figure size 1080x576 with 1 Axes>"
      ]
     },
     "metadata": {},
     "output_type": "display_data"
    }
   ],
   "source": [
    "import numpy as np\n",
    "import pandas as pd\n",
    "import matplotlib.pyplot as plt\n",
    "import seaborn as sns\n",
    "\n",
    "# make dataframe\n",
    "df = pd.DataFrame({\"train\":train.labels, \"test\":test.labels, \"dev\": dev.labels})\n",
    "\n",
    "# plot melted dataframe in a single command\n",
    "sns.set(rc = {'figure.figsize':(15,8)})\n",
    "\n",
    "sns.histplot(df.melt(), x='value', hue='variable',\n",
    "             multiple='dodge', shrink=.75, bins=20)\n"
   ]
  },
  {
   "cell_type": "code",
   "execution_count": 86,
   "metadata": {},
   "outputs": [
    {
     "data": {
      "text/html": [
       "<div>\n",
       "<style scoped>\n",
       "    .dataframe tbody tr th:only-of-type {\n",
       "        vertical-align: middle;\n",
       "    }\n",
       "\n",
       "    .dataframe tbody tr th {\n",
       "        vertical-align: top;\n",
       "    }\n",
       "\n",
       "    .dataframe thead th {\n",
       "        text-align: right;\n",
       "    }\n",
       "</style>\n",
       "<table border=\"1\" class=\"dataframe\">\n",
       "  <thead>\n",
       "    <tr style=\"text-align: right;\">\n",
       "      <th></th>\n",
       "      <th>train</th>\n",
       "      <th>test</th>\n",
       "      <th>dev</th>\n",
       "    </tr>\n",
       "  </thead>\n",
       "  <tbody>\n",
       "    <tr>\n",
       "      <th>count</th>\n",
       "      <td>478</td>\n",
       "      <td>159</td>\n",
       "      <td>160</td>\n",
       "    </tr>\n",
       "    <tr>\n",
       "      <th>unique</th>\n",
       "      <td>12</td>\n",
       "      <td>12</td>\n",
       "      <td>12</td>\n",
       "    </tr>\n",
       "    <tr>\n",
       "      <th>top</th>\n",
       "      <td>Promotion</td>\n",
       "      <td>Promotion</td>\n",
       "      <td>Promotion</td>\n",
       "    </tr>\n",
       "    <tr>\n",
       "      <th>freq</th>\n",
       "      <td>123</td>\n",
       "      <td>41</td>\n",
       "      <td>42</td>\n",
       "    </tr>\n",
       "  </tbody>\n",
       "</table>\n",
       "</div>"
      ],
      "text/plain": [
       "            train       test        dev\n",
       "count         478        159        160\n",
       "unique         12         12         12\n",
       "top     Promotion  Promotion  Promotion\n",
       "freq          123         41         42"
      ]
     },
     "execution_count": 86,
     "metadata": {},
     "output_type": "execute_result"
    }
   ],
   "source": [
    "df.describe()"
   ]
  },
  {
   "cell_type": "markdown",
   "metadata": {},
   "source": [
    "Save the new files as csv"
   ]
  },
  {
   "cell_type": "code",
   "execution_count": 80,
   "metadata": {},
   "outputs": [],
   "source": [
    "train.to_csv(\"GINCO_train.csv\", index=False)\n",
    "test.to_csv(\"GINCO_test.csv\", index=False)\n",
    "dev.to_csv(\"GINCO_dev.csv\", index=False)"
   ]
  }
 ],
 "metadata": {
  "interpreter": {
   "hash": "d9cfed5f1ae94e54fa81532beaff0e3c2671211fce378bf56ff5a3766143a25d"
  },
  "kernelspec": {
   "display_name": "Python 3.10.2 64-bit",
   "language": "python",
   "name": "python3"
  },
  "language_info": {
   "codemirror_mode": {
    "name": "ipython",
    "version": 3
   },
   "file_extension": ".py",
   "mimetype": "text/x-python",
   "name": "python",
   "nbconvert_exporter": "python",
   "pygments_lexer": "ipython3",
   "version": "3.10.2"
  },
  "orig_nbformat": 4
 },
 "nbformat": 4,
 "nbformat_minor": 2
}
