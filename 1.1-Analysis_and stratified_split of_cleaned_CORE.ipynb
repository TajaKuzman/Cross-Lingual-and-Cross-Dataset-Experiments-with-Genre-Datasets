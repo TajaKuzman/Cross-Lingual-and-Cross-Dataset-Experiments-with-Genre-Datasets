{
 "cells": [
  {
   "cell_type": "code",
   "execution_count": 1,
   "metadata": {},
   "outputs": [
    {
     "data": {
      "text/html": [
       "<div>\n",
       "<style scoped>\n",
       "    .dataframe tbody tr th:only-of-type {\n",
       "        vertical-align: middle;\n",
       "    }\n",
       "\n",
       "    .dataframe tbody tr th {\n",
       "        vertical-align: top;\n",
       "    }\n",
       "\n",
       "    .dataframe thead th {\n",
       "        text-align: right;\n",
       "    }\n",
       "</style>\n",
       "<table border=\"1\" class=\"dataframe\">\n",
       "  <thead>\n",
       "    <tr style=\"text-align: right;\">\n",
       "      <th></th>\n",
       "      <th>label</th>\n",
       "      <th>text</th>\n",
       "      <th>split</th>\n",
       "      <th>GINCORE</th>\n",
       "    </tr>\n",
       "  </thead>\n",
       "  <tbody>\n",
       "    <tr>\n",
       "      <th>0</th>\n",
       "      <td>NA NE</td>\n",
       "      <td>Ferry consultation needs deeper questions, say...</td>\n",
       "      <td>train</td>\n",
       "      <td>News</td>\n",
       "    </tr>\n",
       "    <tr>\n",
       "      <th>1</th>\n",
       "      <td>ID DF</td>\n",
       "      <td>I'v been recording and mixing music for about ...</td>\n",
       "      <td>train</td>\n",
       "      <td>Forum</td>\n",
       "    </tr>\n",
       "    <tr>\n",
       "      <th>2</th>\n",
       "      <td>NA SR</td>\n",
       "      <td>The 25-year-old did have chances at Anfield. B...</td>\n",
       "      <td>train</td>\n",
       "      <td>News</td>\n",
       "    </tr>\n",
       "    <tr>\n",
       "      <th>3</th>\n",
       "      <td>NA NE</td>\n",
       "      <td>The value of NYC housing construction starts m...</td>\n",
       "      <td>train</td>\n",
       "      <td>News</td>\n",
       "    </tr>\n",
       "    <tr>\n",
       "      <th>4</th>\n",
       "      <td>ID DF</td>\n",
       "      <td>If this is your first visit, be sure to check ...</td>\n",
       "      <td>train</td>\n",
       "      <td>Forum</td>\n",
       "    </tr>\n",
       "  </tbody>\n",
       "</table>\n",
       "</div>"
      ],
      "text/plain": [
       "   label                                               text  split GINCORE\n",
       "0  NA NE  Ferry consultation needs deeper questions, say...  train    News\n",
       "1  ID DF  I'v been recording and mixing music for about ...  train   Forum\n",
       "2  NA SR  The 25-year-old did have chances at Anfield. B...  train    News\n",
       "3  NA NE  The value of NYC housing construction starts m...  train    News\n",
       "4  ID DF  If this is your first visit, be sure to check ...  train   Forum"
      ]
     },
     "execution_count": 1,
     "metadata": {},
     "output_type": "execute_result"
    }
   ],
   "source": [
    "import pandas as pd\n",
    "\n",
    "with open(\"G:\\My Drive\\Institut Jozef Stefan\\Projekti na Institutu\\Določanje žanrov\\Mapping to CORE\\Corpora\\cleaned_CORE_corpora.csv\") as file:\n",
    "    dataset_df = pd.read_csv(file)\n",
    "\n",
    "dataset_df.head()"
   ]
  },
  {
   "cell_type": "code",
   "execution_count": 2,
   "metadata": {},
   "outputs": [
    {
     "data": {
      "text/plain": [
       "count     34848.000000\n",
       "mean       1254.983672\n",
       "std        3200.818999\n",
       "min          52.000000\n",
       "25%         343.750000\n",
       "50%         642.000000\n",
       "75%        1167.000000\n",
       "max      118278.000000\n",
       "Name: text_length, dtype: float64"
      ]
     },
     "execution_count": 2,
     "metadata": {},
     "output_type": "execute_result"
    }
   ],
   "source": [
    "dataset_df['text_length'] = dataset_df.text.str.split().str.len()\n",
    "\n",
    "dataset_df.text_length.describe()"
   ]
  },
  {
   "cell_type": "code",
   "execution_count": 4,
   "metadata": {},
   "outputs": [
    {
     "data": {
      "text/html": [
       "<div>\n",
       "<style scoped>\n",
       "    .dataframe tbody tr th:only-of-type {\n",
       "        vertical-align: middle;\n",
       "    }\n",
       "\n",
       "    .dataframe tbody tr th {\n",
       "        vertical-align: top;\n",
       "    }\n",
       "\n",
       "    .dataframe thead th {\n",
       "        text-align: right;\n",
       "    }\n",
       "</style>\n",
       "<table border=\"1\" class=\"dataframe\">\n",
       "  <thead>\n",
       "    <tr style=\"text-align: right;\">\n",
       "      <th></th>\n",
       "      <th>text</th>\n",
       "      <th>labels</th>\n",
       "    </tr>\n",
       "  </thead>\n",
       "  <tbody>\n",
       "    <tr>\n",
       "      <th>0</th>\n",
       "      <td>Ferry consultation needs deeper questions, say...</td>\n",
       "      <td>News</td>\n",
       "    </tr>\n",
       "    <tr>\n",
       "      <th>1</th>\n",
       "      <td>I'v been recording and mixing music for about ...</td>\n",
       "      <td>Forum</td>\n",
       "    </tr>\n",
       "    <tr>\n",
       "      <th>2</th>\n",
       "      <td>The 25-year-old did have chances at Anfield. B...</td>\n",
       "      <td>News</td>\n",
       "    </tr>\n",
       "    <tr>\n",
       "      <th>3</th>\n",
       "      <td>The value of NYC housing construction starts m...</td>\n",
       "      <td>News</td>\n",
       "    </tr>\n",
       "    <tr>\n",
       "      <th>4</th>\n",
       "      <td>If this is your first visit, be sure to check ...</td>\n",
       "      <td>Forum</td>\n",
       "    </tr>\n",
       "  </tbody>\n",
       "</table>\n",
       "</div>"
      ],
      "text/plain": [
       "                                                text labels\n",
       "0  Ferry consultation needs deeper questions, say...   News\n",
       "1  I'v been recording and mixing music for about ...  Forum\n",
       "2  The 25-year-old did have chances at Anfield. B...   News\n",
       "3  The value of NYC housing construction starts m...   News\n",
       "4  If this is your first visit, be sure to check ...  Forum"
      ]
     },
     "execution_count": 4,
     "metadata": {},
     "output_type": "execute_result"
    }
   ],
   "source": [
    "final_dataset = dataset_df[[\"text\",\"GINCORE\"]]\n",
    "final_dataset.columns = [\"text\", \"labels\"]\n",
    "\n",
    "final_dataset.head()"
   ]
  },
  {
   "cell_type": "code",
   "execution_count": 5,
   "metadata": {},
   "outputs": [
    {
     "name": "stdout",
     "output_type": "stream",
     "text": [
      "|                         |   labels |\n",
      "|:------------------------|---------:|\n",
      "| News                    |    12658 |\n",
      "| Opinion/Argumentation   |     8980 |\n",
      "| Information/Explanation |     3406 |\n",
      "| Forum                   |     3108 |\n",
      "| Review                  |     1687 |\n",
      "| Instruction             |     1200 |\n",
      "| Promotion               |     1026 |\n",
      "| Research Article        |      804 |\n",
      "| Lyrical                 |      636 |\n",
      "| Interview               |      420 |\n",
      "| Prose                   |      276 |\n",
      "| FAQ                     |      272 |\n",
      "| Legal/Regulation        |      186 |\n",
      "| Recipe                  |      167 |\n",
      "| Script/Drama            |       22 |\n"
     ]
    }
   ],
   "source": [
    "# Analyse the labels in CORE\n",
    "print(final_dataset.labels.value_counts().to_markdown())"
   ]
  },
  {
   "cell_type": "code",
   "execution_count": 6,
   "metadata": {},
   "outputs": [
    {
     "name": "stdout",
     "output_type": "stream",
     "text": [
      "['News', 'Forum', 'Opinion/Argumentation', 'Review', 'Research Article', 'Information/Explanation', 'Lyrical', 'Promotion', 'Instruction', 'FAQ', 'Prose', 'Interview', 'Legal/Regulation', 'Recipe', 'Script/Drama']\n"
     ]
    }
   ],
   "source": [
    "CORE_labels = list(final_dataset.labels.unique())\n",
    "\n",
    "print(CORE_labels)"
   ]
  },
  {
   "cell_type": "code",
   "execution_count": 7,
   "metadata": {},
   "outputs": [],
   "source": [
    "# We won't use the labels that are not present in both datasets, and labels that have less than 5 instances in GINCO.\n",
    "# This is the final set of labels that will be used.\n",
    "\n",
    "LABELS = ['News', 'Forum', 'Opinion/Argumentation', 'Review', 'Research Article', 'Information/Explanation', 'Promotion', 'Instruction', 'Prose', 'Interview', 'Legal/Regulation', 'Recipe']"
   ]
  },
  {
   "cell_type": "code",
   "execution_count": 8,
   "metadata": {},
   "outputs": [
    {
     "data": {
      "text/plain": [
       "12"
      ]
     },
     "execution_count": 8,
     "metadata": {},
     "output_type": "execute_result"
    }
   ],
   "source": [
    "len(LABELS)"
   ]
  },
  {
   "cell_type": "markdown",
   "metadata": {},
   "source": [
    "Let's remove instances that are labelled with discarded labels."
   ]
  },
  {
   "cell_type": "code",
   "execution_count": 9,
   "metadata": {},
   "outputs": [
    {
     "data": {
      "text/html": [
       "<div>\n",
       "<style scoped>\n",
       "    .dataframe tbody tr th:only-of-type {\n",
       "        vertical-align: middle;\n",
       "    }\n",
       "\n",
       "    .dataframe tbody tr th {\n",
       "        vertical-align: top;\n",
       "    }\n",
       "\n",
       "    .dataframe thead th {\n",
       "        text-align: right;\n",
       "    }\n",
       "</style>\n",
       "<table border=\"1\" class=\"dataframe\">\n",
       "  <thead>\n",
       "    <tr style=\"text-align: right;\">\n",
       "      <th></th>\n",
       "      <th>text</th>\n",
       "      <th>labels</th>\n",
       "    </tr>\n",
       "  </thead>\n",
       "  <tbody>\n",
       "    <tr>\n",
       "      <th>count</th>\n",
       "      <td>33918</td>\n",
       "      <td>33918</td>\n",
       "    </tr>\n",
       "    <tr>\n",
       "      <th>unique</th>\n",
       "      <td>33918</td>\n",
       "      <td>12</td>\n",
       "    </tr>\n",
       "    <tr>\n",
       "      <th>top</th>\n",
       "      <td>Ferry consultation needs deeper questions, say...</td>\n",
       "      <td>News</td>\n",
       "    </tr>\n",
       "    <tr>\n",
       "      <th>freq</th>\n",
       "      <td>1</td>\n",
       "      <td>12658</td>\n",
       "    </tr>\n",
       "  </tbody>\n",
       "</table>\n",
       "</div>"
      ],
      "text/plain": [
       "                                                     text labels\n",
       "count                                               33918  33918\n",
       "unique                                              33918     12\n",
       "top     Ferry consultation needs deeper questions, say...   News\n",
       "freq                                                    1  12658"
      ]
     },
     "execution_count": 9,
     "metadata": {},
     "output_type": "execute_result"
    }
   ],
   "source": [
    "reduced_dataset = final_dataset[final_dataset[\"labels\"].isin(LABELS)]\n",
    "\n",
    "reduced_dataset.describe()"
   ]
  },
  {
   "cell_type": "code",
   "execution_count": 10,
   "metadata": {},
   "outputs": [
    {
     "data": {
      "text/plain": [
       "News                       12658\n",
       "Opinion/Argumentation       8980\n",
       "Information/Explanation     3406\n",
       "Forum                       3108\n",
       "Review                      1687\n",
       "Instruction                 1200\n",
       "Promotion                   1026\n",
       "Research Article             804\n",
       "Interview                    420\n",
       "Prose                        276\n",
       "Legal/Regulation             186\n",
       "Recipe                       167\n",
       "Name: labels, dtype: int64"
      ]
     },
     "execution_count": 10,
     "metadata": {},
     "output_type": "execute_result"
    }
   ],
   "source": [
    "reduced_dataset.labels.value_counts()"
   ]
  },
  {
   "cell_type": "code",
   "execution_count": 11,
   "metadata": {},
   "outputs": [
    {
     "name": "stderr",
     "output_type": "stream",
     "text": [
      "C:\\Users\\TajaK\\AppData\\Local\\Temp\\ipykernel_1352\\2681236152.py:2: SettingWithCopyWarning: \n",
      "A value is trying to be set on a copy of a slice from a DataFrame.\n",
      "Try using .loc[row_indexer,col_indexer] = value instead\n",
      "\n",
      "See the caveats in the documentation: https://pandas.pydata.org/pandas-docs/stable/user_guide/indexing.html#returning-a-view-versus-a-copy\n",
      "  reduced_dataset['text_length'] = reduced_dataset.text.str.split().str.len()\n"
     ]
    },
    {
     "data": {
      "text/plain": [
       "count     33918.00000\n",
       "mean       1266.38711\n",
       "std        3229.96619\n",
       "min          52.00000\n",
       "25%         352.00000\n",
       "50%         649.00000\n",
       "75%        1175.00000\n",
       "max      118278.00000\n",
       "Name: text_length, dtype: float64"
      ]
     },
     "execution_count": 11,
     "metadata": {},
     "output_type": "execute_result"
    }
   ],
   "source": [
    "# Analyse text length\n",
    "reduced_dataset['text_length'] = reduced_dataset.text.str.split().str.len()\n",
    "\n",
    "reduced_dataset.text_length.describe()"
   ]
  },
  {
   "cell_type": "markdown",
   "metadata": {},
   "source": [
    "Create a stratified split. First split the dataset into train and devtest and then split the devtest into dev and test. The final split will be 60:20:20."
   ]
  },
  {
   "cell_type": "code",
   "execution_count": 17,
   "metadata": {},
   "outputs": [],
   "source": [
    "import numpy as np\n",
    "from sklearn.model_selection import train_test_split\n",
    "\n",
    "train, devtest = train_test_split(reduced_dataset, test_size=0.4, random_state=42, shuffle = True, stratify = reduced_dataset.labels)"
   ]
  },
  {
   "cell_type": "code",
   "execution_count": 18,
   "metadata": {},
   "outputs": [
    {
     "data": {
      "text/html": [
       "<div>\n",
       "<style scoped>\n",
       "    .dataframe tbody tr th:only-of-type {\n",
       "        vertical-align: middle;\n",
       "    }\n",
       "\n",
       "    .dataframe tbody tr th {\n",
       "        vertical-align: top;\n",
       "    }\n",
       "\n",
       "    .dataframe thead th {\n",
       "        text-align: right;\n",
       "    }\n",
       "</style>\n",
       "<table border=\"1\" class=\"dataframe\">\n",
       "  <thead>\n",
       "    <tr style=\"text-align: right;\">\n",
       "      <th></th>\n",
       "      <th>text</th>\n",
       "      <th>labels</th>\n",
       "    </tr>\n",
       "  </thead>\n",
       "  <tbody>\n",
       "    <tr>\n",
       "      <th>count</th>\n",
       "      <td>20350</td>\n",
       "      <td>20350</td>\n",
       "    </tr>\n",
       "    <tr>\n",
       "      <th>unique</th>\n",
       "      <td>20350</td>\n",
       "      <td>12</td>\n",
       "    </tr>\n",
       "    <tr>\n",
       "      <th>top</th>\n",
       "      <td>The Great Taxonomy of Literary Tumblrs: Round ...</td>\n",
       "      <td>News</td>\n",
       "    </tr>\n",
       "    <tr>\n",
       "      <th>freq</th>\n",
       "      <td>1</td>\n",
       "      <td>7594</td>\n",
       "    </tr>\n",
       "  </tbody>\n",
       "</table>\n",
       "</div>"
      ],
      "text/plain": [
       "                                                     text labels\n",
       "count                                               20350  20350\n",
       "unique                                              20350     12\n",
       "top     The Great Taxonomy of Literary Tumblrs: Round ...   News\n",
       "freq                                                    1   7594"
      ]
     },
     "execution_count": 18,
     "metadata": {},
     "output_type": "execute_result"
    }
   ],
   "source": [
    "train.describe()"
   ]
  },
  {
   "cell_type": "code",
   "execution_count": 19,
   "metadata": {},
   "outputs": [
    {
     "data": {
      "text/plain": [
       "News                       5064\n",
       "Opinion/Argumentation      3592\n",
       "Information/Explanation    1363\n",
       "Forum                      1243\n",
       "Review                      675\n",
       "Instruction                 480\n",
       "Promotion                   410\n",
       "Research Article            322\n",
       "Interview                   168\n",
       "Prose                       110\n",
       "Legal/Regulation             74\n",
       "Recipe                       67\n",
       "Name: labels, dtype: int64"
      ]
     },
     "execution_count": 19,
     "metadata": {},
     "output_type": "execute_result"
    }
   ],
   "source": [
    "devtest.labels.value_counts()"
   ]
  },
  {
   "cell_type": "code",
   "execution_count": 20,
   "metadata": {},
   "outputs": [],
   "source": [
    "test, dev = train_test_split(devtest, test_size=0.5, random_state=42, shuffle = True, stratify = devtest.labels)"
   ]
  },
  {
   "cell_type": "markdown",
   "metadata": {},
   "source": [
    "Observe the distribution of the labels in all sets."
   ]
  },
  {
   "cell_type": "code",
   "execution_count": 21,
   "metadata": {},
   "outputs": [
    {
     "data": {
      "text/plain": [
       "<AxesSubplot:xlabel='value', ylabel='Count'>"
      ]
     },
     "execution_count": 21,
     "metadata": {},
     "output_type": "execute_result"
    },
    {
     "data": {
      "image/png": "[encoded data removed]",
      "text/plain": [
       "<Figure size 1080x576 with 1 Axes>"
      ]
     },
     "metadata": {},
     "output_type": "display_data"
    }
   ],
   "source": [
    "import matplotlib.pyplot as plt\n",
    "import seaborn as sns\n",
    "\n",
    "# make dataframe\n",
    "df = pd.DataFrame({\"train\":train.labels, \"test\":test.labels, \"dev\": dev.labels})\n",
    "\n",
    "# plot melted dataframe in a single command\n",
    "sns.set(rc = {'figure.figsize':(15,8)})\n",
    "\n",
    "sns.histplot(df.melt(), x='value', hue='variable',\n",
    "             multiple='dodge', shrink=.75, bins=20)\n"
   ]
  },
  {
   "cell_type": "code",
   "execution_count": 22,
   "metadata": {},
   "outputs": [
    {
     "data": {
      "text/html": [
       "<div>\n",
       "<style scoped>\n",
       "    .dataframe tbody tr th:only-of-type {\n",
       "        vertical-align: middle;\n",
       "    }\n",
       "\n",
       "    .dataframe tbody tr th {\n",
       "        vertical-align: top;\n",
       "    }\n",
       "\n",
       "    .dataframe thead th {\n",
       "        text-align: right;\n",
       "    }\n",
       "</style>\n",
       "<table border=\"1\" class=\"dataframe\">\n",
       "  <thead>\n",
       "    <tr style=\"text-align: right;\">\n",
       "      <th></th>\n",
       "      <th>train</th>\n",
       "      <th>test</th>\n",
       "      <th>dev</th>\n",
       "    </tr>\n",
       "  </thead>\n",
       "  <tbody>\n",
       "    <tr>\n",
       "      <th>count</th>\n",
       "      <td>20350</td>\n",
       "      <td>6784</td>\n",
       "      <td>6784</td>\n",
       "    </tr>\n",
       "    <tr>\n",
       "      <th>unique</th>\n",
       "      <td>12</td>\n",
       "      <td>12</td>\n",
       "      <td>12</td>\n",
       "    </tr>\n",
       "    <tr>\n",
       "      <th>top</th>\n",
       "      <td>News</td>\n",
       "      <td>News</td>\n",
       "      <td>News</td>\n",
       "    </tr>\n",
       "    <tr>\n",
       "      <th>freq</th>\n",
       "      <td>7594</td>\n",
       "      <td>2532</td>\n",
       "      <td>2532</td>\n",
       "    </tr>\n",
       "  </tbody>\n",
       "</table>\n",
       "</div>"
      ],
      "text/plain": [
       "        train  test   dev\n",
       "count   20350  6784  6784\n",
       "unique     12    12    12\n",
       "top      News  News  News\n",
       "freq     7594  2532  2532"
      ]
     },
     "execution_count": 22,
     "metadata": {},
     "output_type": "execute_result"
    }
   ],
   "source": [
    "df.describe()"
   ]
  },
  {
   "cell_type": "markdown",
   "metadata": {},
   "source": [
    "Save the new files as csv"
   ]
  },
  {
   "cell_type": "code",
   "execution_count": 23,
   "metadata": {},
   "outputs": [],
   "source": [
    "train.to_csv(\"CORE_final_train.csv\", index=False)\n",
    "test.to_csv(\"CORE_final_test.csv\", index=False)\n",
    "dev.to_csv(\"CORE_final_dev.csv\", index=False)"
   ]
  }
 ],
 "metadata": {
  "interpreter": {
   "hash": "4054637ba3b142bc5aa565ef637e29d85952330aa10ad5bd25955ba00ae91bfa"
  },
  "kernelspec": {
   "display_name": "Python 3.10.2 64-bit",
   "language": "python",
   "name": "python3"
  },
  "language_info": {
   "codemirror_mode": {
    "name": "ipython",
    "version": 3
   },
   "file_extension": ".py",
   "mimetype": "text/x-python",
   "name": "python",
   "nbconvert_exporter": "python",
   "pygments_lexer": "ipython3",
   "version": "3.10.2"
  },
  "orig_nbformat": 4
 },
 "nbformat": 4,
 "nbformat_minor": 2
}
